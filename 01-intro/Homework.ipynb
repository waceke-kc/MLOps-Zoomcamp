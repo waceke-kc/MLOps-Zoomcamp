{
 "cells": [
  {
   "cell_type": "code",
   "execution_count": 2,
   "id": "a3fb702b",
   "metadata": {},
   "outputs": [
    {
     "name": "stdout",
     "output_type": "stream",
     "text": [
      "Requirement already satisfied: pyarrow in /home/codespace/anaconda3/lib/python3.9/site-packages (16.1.0)\r\n",
      "Requirement already satisfied: numpy>=1.16.6 in /home/codespace/anaconda3/lib/python3.9/site-packages (from pyarrow) (1.21.5)\r\n"
     ]
    }
   ],
   "source": [
    "!pip install pyarrow"
   ]
  },
  {
   "cell_type": "code",
   "execution_count": 3,
   "id": "324d78be",
   "metadata": {},
   "outputs": [],
   "source": [
    "import seaborn as sns\n",
    "import matplotlib.pyplot as plt"
   ]
  },
  {
   "cell_type": "code",
   "execution_count": 4,
   "id": "9ae9975d",
   "metadata": {},
   "outputs": [],
   "source": [
    "from sklearn.feature_extraction import DictVectorizer\n",
    "from sklearn.linear_model import LinearRegression\n",
    "from sklearn.metrics import mean_squared_error"
   ]
  },
  {
   "cell_type": "code",
   "execution_count": 5,
   "id": "c8ab0353",
   "metadata": {},
   "outputs": [
    {
     "name": "stdout",
     "output_type": "stream",
     "text": [
      "   VendorID tpep_pickup_datetime tpep_dropoff_datetime  passenger_count  \\\n",
      "0         2  2023-01-01 00:32:10   2023-01-01 00:40:36              1.0   \n",
      "1         2  2023-01-01 00:55:08   2023-01-01 01:01:27              1.0   \n",
      "2         2  2023-01-01 00:25:04   2023-01-01 00:37:49              1.0   \n",
      "3         1  2023-01-01 00:03:48   2023-01-01 00:13:25              0.0   \n",
      "4         2  2023-01-01 00:10:29   2023-01-01 00:21:19              1.0   \n",
      "\n",
      "   trip_distance  RatecodeID store_and_fwd_flag  PULocationID  DOLocationID  \\\n",
      "0           0.97         1.0                  N           161           141   \n",
      "1           1.10         1.0                  N            43           237   \n",
      "2           2.51         1.0                  N            48           238   \n",
      "3           1.90         1.0                  N           138             7   \n",
      "4           1.43         1.0                  N           107            79   \n",
      "\n",
      "   payment_type  fare_amount  extra  mta_tax  tip_amount  tolls_amount  \\\n",
      "0             2          9.3   1.00      0.5        0.00           0.0   \n",
      "1             1          7.9   1.00      0.5        4.00           0.0   \n",
      "2             1         14.9   1.00      0.5       15.00           0.0   \n",
      "3             1         12.1   7.25      0.5        0.00           0.0   \n",
      "4             1         11.4   1.00      0.5        3.28           0.0   \n",
      "\n",
      "   improvement_surcharge  total_amount  congestion_surcharge  airport_fee  \n",
      "0                    1.0         14.30                   2.5         0.00  \n",
      "1                    1.0         16.90                   2.5         0.00  \n",
      "2                    1.0         34.90                   2.5         0.00  \n",
      "3                    1.0         20.85                   0.0         1.25  \n",
      "4                    1.0         19.68                   2.5         0.00  \n"
     ]
    }
   ],
   "source": [
    "import pandas as pd\n",
    "\n",
    "file_path= \"https://d37ci6vzurychx.cloudfront.net/trip-data/yellow_tripdata_2023-01.parquet\"\n",
    "\n",
    "#read the dataframe\n",
    "df = pd.read_parquet(file_path)\n",
    "\n",
    "# Display the dataframe\n",
    "\n",
    "print(df.head())"
   ]
  },
  {
   "cell_type": "code",
   "execution_count": 6,
   "id": "91578d94",
   "metadata": {},
   "outputs": [
    {
     "data": {
      "text/plain": [
       "19"
      ]
     },
     "execution_count": 6,
     "metadata": {},
     "output_type": "execute_result"
    }
   ],
   "source": [
    "df.columns.size"
   ]
  },
  {
   "cell_type": "code",
   "execution_count": 7,
   "id": "d9b80033",
   "metadata": {},
   "outputs": [
    {
     "name": "stdout",
     "output_type": "stream",
     "text": [
      "         VendorID tpep_pickup_datetime tpep_dropoff_datetime  passenger_count  \\\n",
      "0               2  2023-01-01 00:32:10   2023-01-01 00:40:36              1.0   \n",
      "1               2  2023-01-01 00:55:08   2023-01-01 01:01:27              1.0   \n",
      "2               2  2023-01-01 00:25:04   2023-01-01 00:37:49              1.0   \n",
      "3               1  2023-01-01 00:03:48   2023-01-01 00:13:25              0.0   \n",
      "4               2  2023-01-01 00:10:29   2023-01-01 00:21:19              1.0   \n",
      "...           ...                  ...                   ...              ...   \n",
      "3066761         2  2023-01-31 23:58:34   2023-02-01 00:12:33              NaN   \n",
      "3066762         2  2023-01-31 23:31:09   2023-01-31 23:50:36              NaN   \n",
      "3066763         2  2023-01-31 23:01:05   2023-01-31 23:25:36              NaN   \n",
      "3066764         2  2023-01-31 23:40:00   2023-01-31 23:53:00              NaN   \n",
      "3066765         2  2023-01-31 23:07:32   2023-01-31 23:21:56              NaN   \n",
      "\n",
      "         trip_distance  RatecodeID store_and_fwd_flag  PULocationID  \\\n",
      "0                 0.97         1.0                  N           161   \n",
      "1                 1.10         1.0                  N            43   \n",
      "2                 2.51         1.0                  N            48   \n",
      "3                 1.90         1.0                  N           138   \n",
      "4                 1.43         1.0                  N           107   \n",
      "...                ...         ...                ...           ...   \n",
      "3066761           3.05         NaN               None           107   \n",
      "3066762           5.80         NaN               None           112   \n",
      "3066763           4.67         NaN               None           114   \n",
      "3066764           3.15         NaN               None           230   \n",
      "3066765           2.85         NaN               None           262   \n",
      "\n",
      "         DOLocationID  payment_type  fare_amount  extra  mta_tax  tip_amount  \\\n",
      "0                 141             2         9.30   1.00      0.5        0.00   \n",
      "1                 237             1         7.90   1.00      0.5        4.00   \n",
      "2                 238             1        14.90   1.00      0.5       15.00   \n",
      "3                   7             1        12.10   7.25      0.5        0.00   \n",
      "4                  79             1        11.40   1.00      0.5        3.28   \n",
      "...               ...           ...          ...    ...      ...         ...   \n",
      "3066761            48             0        15.80   0.00      0.5        3.96   \n",
      "3066762            75             0        22.43   0.00      0.5        2.64   \n",
      "3066763           239             0        17.61   0.00      0.5        5.32   \n",
      "3066764            79             0        18.15   0.00      0.5        4.43   \n",
      "3066765           143             0        15.97   0.00      0.5        2.00   \n",
      "\n",
      "         tolls_amount  improvement_surcharge  total_amount  \\\n",
      "0                 0.0                    1.0         14.30   \n",
      "1                 0.0                    1.0         16.90   \n",
      "2                 0.0                    1.0         34.90   \n",
      "3                 0.0                    1.0         20.85   \n",
      "4                 0.0                    1.0         19.68   \n",
      "...               ...                    ...           ...   \n",
      "3066761           0.0                    1.0         23.76   \n",
      "3066762           0.0                    1.0         29.07   \n",
      "3066763           0.0                    1.0         26.93   \n",
      "3066764           0.0                    1.0         26.58   \n",
      "3066765           0.0                    1.0         21.97   \n",
      "\n",
      "         congestion_surcharge  airport_fee   duration  \n",
      "0                         2.5         0.00   8.433333  \n",
      "1                         2.5         0.00   6.316667  \n",
      "2                         2.5         0.00  12.750000  \n",
      "3                         0.0         1.25   9.616667  \n",
      "4                         2.5         0.00  10.833333  \n",
      "...                       ...          ...        ...  \n",
      "3066761                   NaN          NaN  13.983333  \n",
      "3066762                   NaN          NaN  19.450000  \n",
      "3066763                   NaN          NaN  24.516667  \n",
      "3066764                   NaN          NaN  13.000000  \n",
      "3066765                   NaN          NaN  14.400000  \n",
      "\n",
      "[3066766 rows x 20 columns]\n"
     ]
    }
   ],
   "source": [
    "df['tpep_pickup_datetime'] = pd.to_datetime(df['tpep_pickup_datetime'])\n",
    "df['tpep_dropoff_datetime'] = pd.to_datetime(df['tpep_dropoff_datetime'])\n",
    "\n",
    "df['duration'] = df['tpep_dropoff_datetime']-df['tpep_pickup_datetime']\n",
    "df.duration = df.duration.apply(lambda td: td.total_seconds() / 60)\n",
    "\n",
    "print(df)"
   ]
  },
  {
   "cell_type": "code",
   "execution_count": 8,
   "id": "5b1d1607",
   "metadata": {},
   "outputs": [
    {
     "name": "stdout",
     "output_type": "stream",
     "text": [
      "42.594351241920904\n"
     ]
    }
   ],
   "source": [
    "std = df['duration'].std()\n",
    "\n",
    "print(std)"
   ]
  },
  {
   "cell_type": "code",
   "execution_count": 8,
   "id": "b2faea96",
   "metadata": {
    "scrolled": true
   },
   "outputs": [
    {
     "data": {
      "text/plain": [
       "count    2.964624e+06\n",
       "mean     1.561295e+01\n",
       "std      3.485105e+01\n",
       "min     -1.356667e+01\n",
       "25%      7.150000e+00\n",
       "50%      1.163333e+01\n",
       "75%      1.868333e+01\n",
       "max      9.455400e+03\n",
       "Name: duration, dtype: float64"
      ]
     },
     "execution_count": 8,
     "metadata": {},
     "output_type": "execute_result"
    }
   ],
   "source": [
    "df.duration.describe()"
   ]
  },
  {
   "cell_type": "code",
   "execution_count": 10,
   "id": "5e7fd617",
   "metadata": {},
   "outputs": [],
   "source": [
    "((df.duration >= 1) & (df.duration <= 60)).mean()\n",
    "\n",
    "df = df[((df.duration >= 1) & (df.duration <= 60))]"
   ]
  },
  {
   "cell_type": "code",
   "execution_count": 11,
   "id": "fc6b1ccd",
   "metadata": {},
   "outputs": [],
   "source": [
    "features = ['PULocationID', 'DOLocationID']"
   ]
  },
  {
   "cell_type": "code",
   "execution_count": 12,
   "id": "45eebc0c",
   "metadata": {},
   "outputs": [
    {
     "data": {
      "text/plain": [
       "PULocationID    int64\n",
       "DOLocationID    int64\n",
       "dtype: object"
      ]
     },
     "execution_count": 12,
     "metadata": {},
     "output_type": "execute_result"
    }
   ],
   "source": [
    "df[features].dtypes"
   ]
  },
  {
   "cell_type": "markdown",
   "id": "b4f99dfd",
   "metadata": {},
   "source": [
    "One hot encoding"
   ]
  },
  {
   "cell_type": "code",
   "execution_count": 13,
   "id": "29c6d5b0",
   "metadata": {},
   "outputs": [],
   "source": [
    "df[features] = df[features].astype(str)"
   ]
  },
  {
   "cell_type": "code",
   "execution_count": 35,
   "id": "71a06a8c",
   "metadata": {},
   "outputs": [
    {
     "data": {
      "text/plain": [
       "VendorID                          int32\n",
       "tpep_pickup_datetime     datetime64[ns]\n",
       "tpep_dropoff_datetime    datetime64[ns]\n",
       "passenger_count                 float64\n",
       "trip_distance                   float64\n",
       "RatecodeID                      float64\n",
       "store_and_fwd_flag               object\n",
       "PULocationID                     object\n",
       "DOLocationID                     object\n",
       "payment_type                      int64\n",
       "fare_amount                     float64\n",
       "extra                           float64\n",
       "mta_tax                         float64\n",
       "tip_amount                      float64\n",
       "tolls_amount                    float64\n",
       "improvement_surcharge           float64\n",
       "total_amount                    float64\n",
       "congestion_surcharge            float64\n",
       "Airport_fee                     float64\n",
       "duration                        float64\n",
       "dtype: object"
      ]
     },
     "execution_count": 35,
     "metadata": {},
     "output_type": "execute_result"
    }
   ],
   "source": [
    "df.dtypes"
   ]
  },
  {
   "cell_type": "code",
   "execution_count": 14,
   "id": "f8c4153f",
   "metadata": {},
   "outputs": [],
   "source": [
    "train_dicts = df[features].to_dict(orient='records')"
   ]
  },
  {
   "cell_type": "code",
   "execution_count": 16,
   "id": "115feaf8",
   "metadata": {},
   "outputs": [],
   "source": [
    "dv = DictVectorizer()\n",
    "\n",
    "X_train = dv.fit_transform(train_dicts)"
   ]
  },
  {
   "cell_type": "code",
   "execution_count": 17,
   "id": "f7aface4",
   "metadata": {},
   "outputs": [
    {
     "data": {
      "text/plain": [
       "(3009173, 515)"
      ]
     },
     "execution_count": 17,
     "metadata": {},
     "output_type": "execute_result"
    }
   ],
   "source": [
    "X_train.shape"
   ]
  },
  {
   "cell_type": "code",
   "execution_count": 18,
   "id": "5c6dedc7",
   "metadata": {},
   "outputs": [],
   "source": [
    "y_train = df['duration'].values"
   ]
  },
  {
   "cell_type": "code",
   "execution_count": 19,
   "id": "76511ccf",
   "metadata": {},
   "outputs": [
    {
     "data": {
      "text/plain": [
       "60.0"
      ]
     },
     "execution_count": 19,
     "metadata": {},
     "output_type": "execute_result"
    }
   ],
   "source": [
    "y_train.max()"
   ]
  },
  {
   "cell_type": "code",
   "execution_count": 20,
   "id": "355437a1",
   "metadata": {},
   "outputs": [
    {
     "data": {
      "text/plain": [
       "LinearRegression()"
      ]
     },
     "execution_count": 20,
     "metadata": {},
     "output_type": "execute_result"
    }
   ],
   "source": [
    "lr = LinearRegression()\n",
    "lr.fit(X_train, y_train)"
   ]
  },
  {
   "cell_type": "code",
   "execution_count": 21,
   "id": "1940a3dd",
   "metadata": {},
   "outputs": [
    {
     "name": "stderr",
     "output_type": "stream",
     "text": [
      "/home/codespace/anaconda3/lib/python3.9/site-packages/seaborn/distributions.py:2619: FutureWarning: `distplot` is a deprecated function and will be removed in a future version. Please adapt your code to use either `displot` (a figure-level function with similar flexibility) or `histplot` (an axes-level function for histograms).\n",
      "  warnings.warn(msg, FutureWarning)\n",
      "/home/codespace/anaconda3/lib/python3.9/site-packages/seaborn/distributions.py:2619: FutureWarning: `distplot` is a deprecated function and will be removed in a future version. Please adapt your code to use either `displot` (a figure-level function with similar flexibility) or `histplot` (an axes-level function for histograms).\n",
      "  warnings.warn(msg, FutureWarning)\n"
     ]
    },
    {
     "data": {
      "text/plain": [
       "<matplotlib.legend.Legend at 0x74109f8aad30>"
      ]
     },
     "execution_count": 21,
     "metadata": {},
     "output_type": "execute_result"
    },
    {
     "data": {
      "image/png": "[encoded data removed]",
      "text/plain": [
       "<Figure size 432x288 with 1 Axes>"
      ]
     },
     "metadata": {
      "needs_background": "light"
     },
     "output_type": "display_data"
    }
   ],
   "source": [
    "y_pred = lr.predict(X_train)\n",
    "\n",
    "sns.distplot(y_pred, label=\"Prediction\")\n",
    "sns.distplot(y_train, label=\"Actual\")\n",
    "\n",
    "plt.legend()"
   ]
  },
  {
   "cell_type": "code",
   "execution_count": 22,
   "id": "2f96cf1f",
   "metadata": {},
   "outputs": [
    {
     "data": {
      "text/plain": [
       "7.6492610279057605"
      ]
     },
     "execution_count": 22,
     "metadata": {},
     "output_type": "execute_result"
    }
   ],
   "source": [
    "mean_squared_error(y_train, y_pred, squared=False)"
   ]
  },
  {
   "cell_type": "code",
   "execution_count": 23,
   "id": "3f4727aa",
   "metadata": {},
   "outputs": [],
   "source": [
    "def read_dataframe(filename):\n",
    "    \n",
    "    df = pd.read_parquet(filename)\n",
    "    \n",
    "    df.tpep_dropoff_datetime = pd.to_datetime(df.tpep_dropoff_datetime)\n",
    "    df.tpep_pickup_datetime = pd.to_datetime(df.tpep_pickup_datetime)\n",
    "\n",
    "    df['duration'] = df.tpep_dropoff_datetime - df.tpep_pickup_datetime\n",
    "    df.duration = df.duration.apply(lambda td: td.total_seconds() / 60)\n",
    "\n",
    "    df = df[(df.duration >= 1) & (df.duration <= 60)]\n",
    "\n",
    "    features = ['PULocationID', 'DOLocationID']\n",
    "    df[features] = df[features].astype(str)\n",
    "    \n",
    "    return df"
   ]
  },
  {
   "cell_type": "code",
   "execution_count": 25,
   "id": "fd290704",
   "metadata": {},
   "outputs": [],
   "source": [
    "df_train = read_dataframe(\"https://d37ci6vzurychx.cloudfront.net/trip-data/yellow_tripdata_2023-01.parquet\")\n",
    "df_validation = read_dataframe(\"https://d37ci6vzurychx.cloudfront.net/trip-data/yellow_tripdata_2023-02.parquet\")"
   ]
  },
  {
   "cell_type": "code",
   "execution_count": 26,
   "id": "63384c66",
   "metadata": {},
   "outputs": [],
   "source": [
    "dv = DictVectorizer()\n",
    "\n",
    "train_dicts = df_train[features].to_dict(orient='records')\n",
    "X_train = dv.fit_transform(train_dicts)\n",
    "\n",
    "val_dicts = df_validation[features].to_dict(orient='records')\n",
    "X_val = dv.transform(val_dicts)\n"
   ]
  },
  {
   "cell_type": "code",
   "execution_count": 27,
   "id": "07903b55",
   "metadata": {},
   "outputs": [],
   "source": [
    "y_train = df_train['duration'].values\n",
    "y_val = df_validation['duration'].values\n"
   ]
  },
  {
   "cell_type": "code",
   "execution_count": 29,
   "id": "afcf4ab5",
   "metadata": {},
   "outputs": [
    {
     "data": {
      "text/plain": [
       "7.81183265470218"
      ]
     },
     "execution_count": 29,
     "metadata": {},
     "output_type": "execute_result"
    }
   ],
   "source": [
    "lr = LinearRegression()\n",
    "lr.fit(X_train, y_train)\n",
    "\n",
    "y_pred = lr.predict(X_val)\n",
    "\n",
    "mean_squared_error(y_val, y_pred, squared=False)"
   ]
  },
  {
   "cell_type": "code",
   "execution_count": null,
   "id": "ef65086c",
   "metadata": {},
   "outputs": [],
   "source": []
  }
 ],
 "metadata": {
  "kernelspec": {
   "display_name": "Python 3 (ipykernel)",
   "language": "python",
   "name": "python3"
  },
  "language_info": {
   "codemirror_mode": {
    "name": "ipython",
    "version": 3
   },
   "file_extension": ".py",
   "mimetype": "text/x-python",
   "name": "python",
   "nbconvert_exporter": "python",
   "pygments_lexer": "ipython3",
   "version": "3.9.12"
  }
 },
 "nbformat": 4,
 "nbformat_minor": 5
}
